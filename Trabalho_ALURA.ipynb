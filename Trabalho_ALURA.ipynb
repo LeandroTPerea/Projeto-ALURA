{
  "nbformat": 4,
  "nbformat_minor": 0,
  "metadata": {
    "colab": {
      "provenance": [],
      "gpuType": "T4",
      "authorship_tag": "ABX9TyNyW4txQvSLQzy8al3bv53Q",
      "include_colab_link": true
    },
    "kernelspec": {
      "name": "python3",
      "display_name": "Python 3"
    },
    "language_info": {
      "name": "python"
    },
    "accelerator": "GPU"
  },
  "cells": [
    {
      "cell_type": "markdown",
      "metadata": {
        "id": "view-in-github",
        "colab_type": "text"
      },
      "source": [
        "<a href=\"https://colab.research.google.com/github/LeandroTPerea/Projeto-ALURA/blob/main/Trabalho_ALURA.ipynb\" target=\"_parent\"><img src=\"https://colab.research.google.com/assets/colab-badge.svg\" alt=\"Open In Colab\"/></a>"
      ]
    },
    {
      "cell_type": "code",
      "source": [
        "import google.generativeai as genai\n",
        "from google.colab import userdata\n",
        "api_key = userdata.get(\"SECRET_KEY\")\n",
        "genai.configure(api_key=api_key)\n",
        "\n",
        "import random\n",
        "\n",
        "# Listas de frases motivacionais para cada sentimento\n",
        "# ... (código das listas de frases) ...\n",
        "\n",
        "# Função para determinar o estado de espírito com ajuda adicional para tristeza\n",
        "def estado_espirito(numero):\n",
        "    if 0 <= numero <= 33:\n",
        "        estado = \"triste\"\n",
        "        frase = random.choice(frases_triste)\n",
        "        ajuda_profissional = input(\"Você gostaria de ajuda profissional? (sim/não): \")\n",
        "        if ajuda_profissional.lower() == \"sim\":\n",
        "            frase += \"\\nAqui está um link para ajuda: https://www.cvv.org.br/\"  # Link para o CVV\n",
        "        return estado, frase\n",
        "    elif 34 <= numero <= 66:\n",
        "        return \"neutro\", random.choice(frases_neutro)\n",
        "    elif 67 <= numero <= 100:\n",
        "        return \"feliz\", random.choice(frases_feliz)\n",
        "    else:\n",
        "        return \"inválido\", \"Por favor, digite um número entre 0 e 100.\"\n",
        "\n",
        "# Loop de interação com o usuário\n",
        "while True:\n",
        "    entrada = input(\"Digite um número entre 0 e 100 (ou 'fim' para terminar): \")\n",
        "\n",
        "    if entrada.lower() == \"fim\":\n",
        "        break\n",
        "\n",
        "    try:\n",
        "        numero = int(entrada)\n",
        "        estado, frase = estado_espirito(numero)\n",
        "\n",
        "        if estado == \"inválido\":\n",
        "            print(frase)\n",
        "        else:\n",
        "            print(f\"Seu estado de espírito parece ser: {estado}\\n\")  # Quebra de linha após o estado\n",
        "            print(\"-\" * 30)  # Separador visual\n",
        "            print(f\"✨ Frase motivacional: {frase} ✨\")  # Destaque para a frase\n",
        "            print(\"-\" * 30)  # Separador visual\n",
        "\n",
        "    except ValueError:\n",
        "        print(\"Entrada inválida. Por favor, digite um número.\")"
      ],
      "metadata": {
        "colab": {
          "base_uri": "https://localhost:8080/"
        },
        "id": "OJRgEOXA2vop",
        "outputId": "f96169d5-e1a5-4a35-fbcb-30f9930a45aa"
      },
      "execution_count": 13,
      "outputs": [
        {
          "name": "stdout",
          "output_type": "stream",
          "text": [
            "Digite um número entre 0 e 100 (ou 'fim' para terminar): 0\n",
            "Você gostaria de ajuda profissional? (sim/não): sim\n",
            "Seu estado de espírito parece ser: triste\n",
            "\n",
            "------------------------------\n",
            "✨ Frase motivacional: Às vezes choramos sem querer, e às vezes rimos sem querer. É o preço que pagamos por ter sentimentos.\n",
            "Aqui está um link para ajuda: https://www.cvv.org.br/ ✨\n",
            "------------------------------\n",
            "Digite um número entre 0 e 100 (ou 'fim' para terminar): 50\n",
            "Seu estado de espírito parece ser: neutro\n",
            "\n",
            "------------------------------\n",
            "✨ Frase motivacional: A paz começa com um sorriso. ✨\n",
            "------------------------------\n",
            "Digite um número entre 0 e 100 (ou 'fim' para terminar): 67\n",
            "Seu estado de espírito parece ser: feliz\n",
            "\n",
            "------------------------------\n",
            "✨ Frase motivacional: A felicidade reside na alegria do achievement e no entusiasmo do esforço criativo. ✨\n",
            "------------------------------\n",
            "Digite um número entre 0 e 100 (ou 'fim' para terminar): fim\n"
          ]
        }
      ]
    }
  ]
}