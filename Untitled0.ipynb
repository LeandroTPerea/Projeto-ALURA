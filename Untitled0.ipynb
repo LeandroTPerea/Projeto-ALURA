{
  "nbformat": 4,
  "nbformat_minor": 0,
  "metadata": {
    "colab": {
      "provenance": [],
      "authorship_tag": "ABX9TyNUAPORGYHXf5n8nYg1qjb6",
      "include_colab_link": true
    },
    "kernelspec": {
      "name": "python3",
      "display_name": "Python 3"
    },
    "language_info": {
      "name": "python"
    }
  },
  "cells": [
    {
      "cell_type": "markdown",
      "metadata": {
        "id": "view-in-github",
        "colab_type": "text"
      },
      "source": [
        "<a href=\"https://colab.research.google.com/github/LeandroTPerea/Projeto-ALURA/blob/main/Untitled0.ipynb\" target=\"_parent\"><img src=\"https://colab.research.google.com/assets/colab-badge.svg\" alt=\"Open In Colab\"/></a>"
      ]
    },
    {
      "cell_type": "code",
      "source": [
        "import random\n",
        "\n",
        "# ... (código das listas de frases) ...\n",
        "\n",
        "# ... (código da função estado_espirito) ...\n",
        "\n",
        "# Loop de interação com o usuário\n",
        "while True:\n",
        "    entrada = input(\"Digite um número entre 0 e 100 (ou 'fim' para terminar): \")\n",
        "\n",
        "    if entrada.lower() == \"fim\":\n",
        "        break\n",
        "\n",
        "    try:\n",
        "        numero = int(entrada)\n",
        "        estado, frase = estado_espirito(numero)\n",
        "\n",
        "        if estado == \"inválido\":\n",
        "            print(frase)\n",
        "        else:\n",
        "            print(f\"Seu estado de espírito parece ser: {estado}\\n\")  # Quebra de linha após o estado\n",
        "            print(\"-\" * 30)  # Separador visual\n",
        "            print(f\"✨ Frase motivacional: {frase} ✨\")  # Destaque para a frase\n",
        "            print(\"-\" * 30)  # Separador visual\n",
        "\n",
        "    except ValueError:\n",
        "        print(\"Entrada inválida. Por favor, digite um número.\")"
      ],
      "metadata": {
        "colab": {
          "base_uri": "https://localhost:8080/"
        },
        "id": "ykIRLFARqWps",
        "outputId": "652600dc-baaa-4e7d-e609-bb479c401be1"
      },
      "execution_count": 25,
      "outputs": [
        {
          "name": "stdout",
          "output_type": "stream",
          "text": [
            "Digite um número entre 0 e 100 (ou 'fim' para terminar): 0\n",
            "Você gostaria de ajuda profissional? (sim/não): não\n",
            "Seu estado de espírito parece ser: triste\n",
            "\n",
            "------------------------------\n",
            "✨ Frase motivacional: Às vezes choramos sem querer, e às vezes rimos sem querer. É o preço que pagamos por ter sentimentos. ✨\n",
            "------------------------------\n",
            "Digite um número entre 0 e 100 (ou 'fim' para terminar): 50\n",
            "Seu estado de espírito parece ser: neutro\n",
            "\n",
            "------------------------------\n",
            "✨ Frase motivacional: A neutralidade é uma virtude quando a injustiça é a lei. ✨\n",
            "------------------------------\n",
            "Digite um número entre 0 e 100 (ou 'fim' para terminar): 60\n",
            "Seu estado de espírito parece ser: neutro\n",
            "\n",
            "------------------------------\n",
            "✨ Frase motivacional: A vida não é nem preta nem branca, é uma mistura de cores. ✨\n",
            "------------------------------\n",
            "Digite um número entre 0 e 100 (ou 'fim' para terminar): 70\n",
            "Seu estado de espírito parece ser: feliz\n",
            "\n",
            "------------------------------\n",
            "✨ Frase motivacional: A felicidade é um perfume que não se pode derramar sobre os outros sem que algumas gotas caiam sobre nós mesmos. ✨\n",
            "------------------------------\n",
            "Digite um número entre 0 e 100 (ou 'fim' para terminar): fim\n"
          ]
        }
      ]
    }
  ]
}